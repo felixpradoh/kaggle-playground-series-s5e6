{
 "cells": [
  {
   "cell_type": "markdown",
   "id": "67917370",
   "metadata": {},
   "source": [
    "# EDA - Análisis Exploratorio de Datos\n",
    "## Kaggle Playground Series S5E6: Predicting Optimal Fertilizers\n",
    "\n",
    "**Autor:** [Félix]  \n",
    "**Fecha:** [2025-06-02]  \n",
    "**Rama:** [experiment/felix]  "
   ]
  },
  {
   "cell_type": "markdown",
   "id": "d812151f",
   "metadata": {},
   "source": [
    "## 📚 Importación de Librerías"
   ]
  },
  {
   "cell_type": "code",
   "execution_count": null,
   "id": "69c9f56c",
   "metadata": {},
   "outputs": [],
   "source": [
    "import pandas as pd\n",
    "import numpy as np\n",
    "import matplotlib.pyplot as plt\n",
    "import seaborn as sns\n",
    "from sklearn.model_selection import train_test_split\n",
    "from sklearn.preprocessing import LabelEncoder, StandardScaler\n",
    "import warnings\n",
    "warnings.filterwarnings('ignore')\n",
    "\n",
    "# Configuración de visualización\n",
    "plt.style.use('default')\n",
    "sns.set_palette(\"husl\")\n",
    "%matplotlib inline"
   ]
  },
  {
   "cell_type": "markdown",
   "id": "f9b244d0",
   "metadata": {},
   "source": [
    "## 📊 Carga de Datos"
   ]
  },
  {
   "cell_type": "code",
   "execution_count": null,
   "id": "d07865f0",
   "metadata": {},
   "outputs": [],
   "source": [
    "# Cargar datasets\n",
    "train_df = pd.read_csv('../data/train.csv')\n",
    "test_df = pd.read_csv('../data/test.csv')\n",
    "sample_submission = pd.read_csv('../data/sample_submission.csv')\n",
    "\n",
    "print(f\"Train shape: {train_df.shape}\")\n",
    "print(f\"Test shape: {test_df.shape}\")\n",
    "print(f\"Sample submission shape: {sample_submission.shape}\")"
   ]
  },
  {
   "cell_type": "markdown",
   "id": "52c55caf",
   "metadata": {},
   "source": [
    "## 🔍 Exploración Inicial"
   ]
  },
  {
   "cell_type": "code",
   "execution_count": null,
   "id": "dacd7d0a",
   "metadata": {},
   "outputs": [],
   "source": [
    "# Información básica del dataset\n",
    "print(\"=== INFORMACIÓN DEL DATASET ===\\n\")\n",
    "train_df.info()\n",
    "\n",
    "print(\"\\n=== PRIMERAS 5 FILAS ===\\n\")\n",
    "display(train_df.head())\n",
    "\n",
    "print(\"\\n=== ESTADÍSTICAS DESCRIPTIVAS ===\\n\")\n",
    "display(train_df.describe())"
   ]
  },
  {
   "cell_type": "markdown",
   "id": "0c469a48",
   "metadata": {},
   "source": [
    "## 🎯 Análisis de la Variable Objetivo"
   ]
  },
  {
   "cell_type": "code",
   "execution_count": null,
   "id": "24bf61ae",
   "metadata": {},
   "outputs": [],
   "source": [
    "# Distribución de fertilizantes\n",
    "plt.figure(figsize=(12, 6))\n",
    "fertilizer_counts = train_df['Fertilizer Name'].value_counts()\n",
    "plt.subplot(1, 2, 1)\n",
    "fertilizer_counts.plot(kind='bar')\n",
    "plt.title('Distribución de Tipos de Fertilizantes')\n",
    "plt.xlabel('Tipo de Fertilizante')\n",
    "plt.ylabel('Frecuencia')\n",
    "plt.xticks(rotation=45)\n",
    "\n",
    "plt.subplot(1, 2, 2)\n",
    "plt.pie(fertilizer_counts.values, labels=fertilizer_counts.index, autopct='%1.1f%%')\n",
    "plt.title('Distribución Porcentual de Fertilizantes')\n",
    "\n",
    "plt.tight_layout()\n",
    "plt.show()\n",
    "\n",
    "print(f\"Número de tipos únicos de fertilizantes: {train_df['Fertilizer Name'].nunique()}\")\n",
    "print(f\"\\nTop 10 fertilizantes más comunes:\")\n",
    "print(fertilizer_counts.head(10))"
   ]
  },
  {
   "cell_type": "markdown",
   "id": "780d7c9e",
   "metadata": {},
   "source": [
    "## 🌡️ Análisis de Variables Numéricas"
   ]
  },
  {
   "cell_type": "code",
   "execution_count": null,
   "id": "98c0b605",
   "metadata": {},
   "outputs": [],
   "source": [
    "# Variables numéricas\n",
    "numeric_cols = ['Temparature', 'Humidity', 'Moisture', 'Nitrogen', 'Potassium', 'Phosphorous']\n",
    "\n",
    "# Distribuciones\n",
    "fig, axes = plt.subplots(2, 3, figsize=(15, 10))\n",
    "axes = axes.ravel()\n",
    "\n",
    "for i, col in enumerate(numeric_cols):\n",
    "    axes[i].hist(train_df[col], bins=30, alpha=0.7, edgecolor='black')\n",
    "    axes[i].set_title(f'Distribución de {col}')\n",
    "    axes[i].set_xlabel(col)\n",
    "    axes[i].set_ylabel('Frecuencia')\n",
    "\n",
    "plt.tight_layout()\n",
    "plt.show()"
   ]
  },
  {
   "cell_type": "markdown",
   "id": "ffe41319",
   "metadata": {},
   "source": [
    "## 🌾 Análisis de Variables Categóricas"
   ]
  },
  {
   "cell_type": "code",
   "execution_count": null,
   "id": "2cac030c",
   "metadata": {},
   "outputs": [],
   "source": [
    "# Variables categóricas\n",
    "categorical_cols = ['Soil Type', 'Crop Type']\n",
    "\n",
    "fig, axes = plt.subplots(1, 2, figsize=(15, 6))\n",
    "\n",
    "for i, col in enumerate(categorical_cols):\n",
    "    train_df[col].value_counts().plot(kind='density', ax=axes[i])\n",
    "    axes[i].set_title(f'Distribución de {col}')\n",
    "    axes[i].set_xlabel(col)\n",
    "    axes[i].set_ylabel('Frecuencia')\n",
    "    axes[i].tick_params(axis='x', rotation=45)\n",
    "\n",
    "plt.tight_layout()\n",
    "plt.show()\n",
    "\n",
    "# Información detallada\n",
    "for col in categorical_cols:\n",
    "    print(f\"\\n{col}:\")\n",
    "    print(train_df[col].value_counts())\n",
    "    print(f\"Valores únicos: {train_df[col].nunique()}\")"
   ]
  },
  {
   "cell_type": "markdown",
   "id": "24dd1ad5",
   "metadata": {},
   "source": [
    "## 🔗 Matriz de Correlación"
   ]
  },
  {
   "cell_type": "code",
   "execution_count": null,
   "id": "31a0121d",
   "metadata": {},
   "outputs": [],
   "source": [
    "# Matriz de correlación para variables numéricas\n",
    "plt.figure(figsize=(10, 8))\n",
    "correlation_matrix = train_df[numeric_cols].corr()\n",
    "sns.heatmap(correlation_matrix, annot=True, cmap='coolwarm', center=0, \n",
    "            square=True, linewidths=0.5, vmin=-1, vmax=1)\n",
    "plt.title('Matriz de Correlación - Variables Numéricas')\n",
    "plt.tight_layout()\n",
    "plt.show()"
   ]
  },
  {
   "cell_type": "markdown",
   "id": "befc5ee9",
   "metadata": {},
   "source": [
    "## 📋 Checklist de Próximos Pasos\n",
    "\n",
    "- [x] Análisis de valores faltantes\n",
    "- [ ] Detección de outliers\n",
    "- [ ] Feature engineering\n",
    "- [ ] EDA with LabelEncoder\n",
    "- [ ] Análisis por segmentos (tipo de suelo/cultivo)\n",
    "- [ ] Preparación de datos para modelado\n",
    "- [ ] Baseline model\n",
    "\n",
    "## 💡 Insights y Observaciones\n",
    "\n",
    "*Agregar aquí tus observaciones principales del EDA*"
   ]
  },
  {
   "cell_type": "markdown",
   "id": "00bfd4f3",
   "metadata": {},
   "source": [
    "## 🕳️ Análisis de valores faltantes"
   ]
  },
  {
   "cell_type": "code",
   "execution_count": null,
   "id": "a386a1a4",
   "metadata": {},
   "outputs": [],
   "source": [
    "print(\"\\n=== VALORES NULOS EN EL DATASET ===\\n\")\n",
    "display(train_df.isnull().sum())\n",
    "\n",
    "print(\"\\n=== PORCENTAJE DE VALORES NULOS ===\\n\")\n",
    "display(train_df.isnull().mean() * 100)\n",
    "\n",
    "print(\"\\n=== DESCRIPCIÓN con VARIBALES CATEGÓRICAS ===\\n \")\n",
    "display(train_df.describe(include='all'))"
   ]
  },
  {
   "cell_type": "markdown",
   "id": "e3103ac3",
   "metadata": {},
   "source": [
    "## 👽 Detección de Outliers"
   ]
  },
  {
   "cell_type": "code",
   "execution_count": null,
   "id": "6f16874d",
   "metadata": {},
   "outputs": [],
   "source": [
    "! TODO"
   ]
  },
  {
   "cell_type": "markdown",
   "id": "68a0a464",
   "metadata": {},
   "source": [
    "## ⚙️ Feature Engineering"
   ]
  },
  {
   "cell_type": "code",
   "execution_count": null,
   "id": "191c78e5",
   "metadata": {},
   "outputs": [],
   "source": [
    "from sklearn.preprocessing import LabelEncoder\n",
    "\n",
    "df_encoded = train_df.copy()\n",
    "le_soil = LabelEncoder()\n",
    "df_encoded['Soil Type'] = le_soil.fit_transform(df_encoded['Soil Type'])\n",
    "\n",
    "le_crop = LabelEncoder()\n",
    "df_encoded['Crop Type'] = le_crop.fit_transform(df_encoded['Crop Type'])\n",
    "\n",
    "le_target = LabelEncoder()\n",
    "df_encoded['Fertilizer Name'] = le_target.fit_transform(df_encoded['Fertilizer Name'])\n"
   ]
  },
  {
   "cell_type": "code",
   "execution_count": null,
   "id": "bf7e1f9f",
   "metadata": {},
   "outputs": [],
   "source": []
  },
  {
   "cell_type": "code",
   "execution_count": null,
   "id": "44001bef",
   "metadata": {},
   "outputs": [],
   "source": []
  }
 ],
 "metadata": {
  "kernelspec": {
   "display_name": "base",
   "language": "python",
   "name": "python3"
  },
  "language_info": {
   "codemirror_mode": {
    "name": "ipython",
    "version": 3
   },
   "file_extension": ".py",
   "mimetype": "text/x-python",
   "name": "python",
   "nbconvert_exporter": "python",
   "pygments_lexer": "ipython3",
   "version": "3.13.2"
  }
 },
 "nbformat": 4,
 "nbformat_minor": 5
}
