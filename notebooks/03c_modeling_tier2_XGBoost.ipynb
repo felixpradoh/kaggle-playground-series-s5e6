{
 "cells": [
  {
   "cell_type": "markdown",
   "id": "3b7ad56c",
   "metadata": {},
   "source": [
    "# Modelado TIER 2: XGBoost\n",
    "\n",
    "Este notebook se enfoca en entrenar y evaluar un modelo XGBoost."
   ]
  },
  {
   "cell_type": "markdown",
   "id": "a26d5a16",
   "metadata": {},
   "source": [
    "## 1. Carga de Librerías y Datos"
   ]
  },
  {
   "cell_type": "code",
   "execution_count": null,
   "id": "eccebd9c",
   "metadata": {},
   "outputs": [],
   "source": [
    "import pandas as pd\n",
    "import numpy as np\n",
    "import pickle\n",
    "import xgboost as xgb\n",
    "from sklearn.metrics import roc_auc_score, classification_report, confusion_matrix\n",
    "from sklearn.utils.class_weight import compute_sample_weight\n",
    "import matplotlib.pyplot as plt\n",
    "import seaborn as sns\n",
    "\n",
    "# Rutas de los datos preprocesados\n",
    "X_train_path = '../data/processed/X_train.parquet'\n",
    "y_train_path = '../data/processed/y_train.parquet'\n",
    "X_val_path = '../data/processed/X_val.parquet'\n",
    "y_val_path = '../data/processed/y_val.parquet'\n",
    "X_test_path = '../data/processed/X_test.parquet'\n",
    "feature_info_path = '../data/processed/feature_info.pkl'\n",
    "\n",
    "# Cargar los datos\n",
    "X_train = pd.read_parquet(X_train_path)\n",
    "y_train = pd.read_parquet(y_train_path).squeeze()\n",
    "X_val = pd.read_parquet(X_val_path)\n",
    "y_val = pd.read_parquet(y_val_path).squeeze()\n",
    "X_test = pd.read_parquet(X_test_path)\n",
    "\n",
    "# Cargar información de las características\n",
    "with open(feature_info_path, 'rb') as f:\n",
    "    feature_info = pickle.load(f)\n",
    "\n",
    "print(\"Forma de X_train:\", X_train.shape)\n",
    "print(\"Forma de y_train:\", y_train.shape)\n",
    "print(\"Forma de X_val:\", X_val.shape)\n",
    "print(\"Forma de y_val:\", y_val.shape)\n",
    "print(\"Forma de X_test:\", X_test.shape)\n",
    "print(\"Características seleccionadas:\", feature_info['selected_features'])"
   ]
  },
  {
   "cell_type": "markdown",
   "id": "4a89c70a",
   "metadata": {},
   "source": [
    "## 2. Definición y Entrenamiento del Modelo XGBoost"
   ]
  },
  {
   "cell_type": "code",
   "execution_count": null,
   "id": "a17d4c5b",
   "metadata": {},
   "outputs": [],
   "source": [
    "# Crear DMatrix para XGBoost\n",
    "# XGBoost puede manejar nombres de características con caracteres especiales si se configuran adecuadamente,\n",
    "# pero es buena práctica asegurarse de que sean compatibles.\n",
    "# Las características ya fueron preprocesadas, así que deberían estar bien.\n",
    "dtrain = xgb.DMatrix(X_train[feature_info['selected_features']], label=y_train)\n",
    "dval = xgb.DMatrix(X_val[feature_info['selected_features']], label=y_val)\n",
    "dtest = xgb.DMatrix(X_test[feature_info['selected_features']])\n",
    "\n",
    "# Parámetros de XGBoost (puedes ajustarlos o usar Optuna/GridSearch para optimizarlos)\n",
    "# Calcular scale_pos_weight para manejar el desbalance de clases\n",
    "scale_pos_weight = np.sum(y_train == 0) / np.sum(y_train == 1)\n",
    "\n",
    "params = {\n",
    "    'objective': 'binary:logistic',\n",
    "    'eval_metric': 'auc', # Métrica de evaluación\n",
    "    'eta': 0.05, # learning_rate\n",
    "    'max_depth': 6,\n",
    "    'subsample': 0.8,\n",
    "    'colsample_bytree': 0.8,\n",
    "    'seed': 42,\n",
    "    'scale_pos_weight': scale_pos_weight # Para clases desbalanceadas\n",
    "}\n",
    "\n",
    "print(\"Entrenando el modelo XGBoost...\")\n",
    "watchlist = [(dtrain, 'train'), (dval, 'eval')]\n",
    "xgb_model = xgb.train(params,\n",
    "                      dtrain,\n",
    "                      num_boost_round=1000, # Número de iteraciones de boosting\n",
    "                      evals=watchlist,\n",
    "                      early_stopping_rounds=50, # Parar si la métrica de evaluación no mejora en 50 rondas\n",
    "                      verbose_eval=100) # Imprimir evaluación cada 100 rondas\n",
    "print(\"Entrenamiento completado.\")"
   ]
  },
  {
   "cell_type": "markdown",
   "id": "cacb1bcf",
   "metadata": {},
   "source": [
    "## 3. Evaluación del Modelo"
   ]
  },
  {
   "cell_type": "code",
   "execution_count": null,
   "id": "7c78197a",
   "metadata": {},
   "outputs": [],
   "source": [
    "# Predicciones en el conjunto de validación\n",
    "y_pred_proba_val = xgb_model.predict(dval, iteration_range=(0, xgb_model.best_iteration))\n",
    "y_pred_val = (y_pred_proba_val > 0.5).astype(int) # Umbral de 0.5\n",
    "\n",
    "# Calcular AUC-ROC\n",
    "auc_roc = roc_auc_score(y_val, y_pred_proba_val)\n",
    "print(f\"AUC-ROC en el conjunto de validación: {auc_roc:.4f}\")\n",
    "\n",
    "# Mostrar reporte de clasificación\n",
    "print(\"\\nReporte de Clasificación en el conjunto de validación:\")\n",
    "print(classification_report(y_val, y_pred_val))\n",
    "\n",
    "# Mostrar matriz de confusión\n",
    "print(\"\\nMatriz de Confusión en el conjunto de validación:\")\n",
    "cm = confusion_matrix(y_val, y_pred_val)\n",
    "sns.heatmap(cm, annot=True, fmt='d', cmap='Blues')\n",
    "plt.xlabel('Predicción')\n",
    "plt.ylabel('Real')\n",
    "plt.title('Matriz de Confusión - XGBoost')\n",
    "plt.show()"
   ]
  },
  {
   "cell_type": "markdown",
   "id": "28239fd4",
   "metadata": {},
   "source": [
    "## 4. Importancia de las Características"
   ]
  },
  {
   "cell_type": "code",
   "execution_count": null,
   "id": "885dce69",
   "metadata": {},
   "outputs": [],
   "source": [
    "fig, ax = plt.subplots(figsize=(10, 8))\n",
    "xgb.plot_importance(xgb_model, ax=ax, max_num_features=20, importance_type='gain') # 'weight', 'gain', 'cover'\n",
    "plt.title('Importancia de las Características - XGBoost (gain)')\n",
    "plt.show()\n",
    "\n",
    "# Obtener y mostrar como DataFrame\n",
    "importance = xgb_model.get_score(importance_type='gain')\n",
    "feature_importance_df = pd.DataFrame({'feature': list(importance.keys()), 'importance': list(importance.values())})\n",
    "feature_importance_df = feature_importance_df.sort_values(by='importance', ascending=False)\n",
    "print(feature_importance_df)"
   ]
  },
  {
   "cell_type": "markdown",
   "id": "a1ae2a45",
   "metadata": {},
   "source": [
    "## 5. Guardar el Modelo (Opcional)"
   ]
  },
  {
   "cell_type": "code",
   "execution_count": null,
   "id": "20e864e7",
   "metadata": {},
   "outputs": [],
   "source": [
    "# Guardar el modelo entrenado\n",
    "model_path = '../models/xgboost_model.pkl'\n",
    "# xgb_model.save_model(model_path.replace('.pkl', '.json')) # Formato nativo de XGBoost\n",
    "with open(model_path, 'wb') as f:\n",
    "    pickle.dump(xgb_model, f)\n",
    "print(f\"Modelo XGBoost guardado en: {model_path} (y como .json)\")\n",
    "\n",
    "\n",
    "# También podrías guardar las predicciones si es necesario para una submission\n",
    "# y_pred_test_proba = xgb_model.predict(dtest, iteration_range=(0, xgb_model.best_iteration))\n",
    "# submission_df = pd.read_csv('../data/sample_submission.csv')\n",
    "# submission_df['Exited'] = y_pred_test_proba\n",
    "# submission_df.to_csv('../submissions/submission_xgb.csv', index=False)\n",
    "# print(\"Archivo de submission generado: ../submissions/submission_xgb.csv\")"
   ]
  },
  {
   "cell_type": "code",
   "execution_count": null,
   "metadata": {},
   "outputs": [],
   "source": [
    "# Guardar el modelo entrenado\n",
    "model_path = '../models/xgboost_model.pkl'\n",
    "# xgb_model.save_model(model_path.replace('.pkl', '.json')) # Formato nativo de XGBoost\n",
    "with open(model_path, 'wb') as f:\n",
    "    pickle.dump(xgb_model, f)\n",
    "print(f\"Modelo XGBoost guardado en: {model_path} (y como .json)\")\n",
    "\n",
    "\n",
    "# También podrías guardar las predicciones si es necesario para una submission\n",
    "# y_pred_test_proba = xgb_model.predict(dtest, iteration_range=(0, xgb_model.best_iteration))\n",
    "# submission_df = pd.read_csv('../data/sample_submission.csv')\n",
    "# submission_df['Exited'] = y_pred_test_proba\n",
    "# submission_df.to_csv('../submissions/submission_xgb.csv', index=False)\n",
    "# print(\"Archivo de submission generado: ../submissions/submission_xgb.csv\")"
   ]
  }
 ],
 "metadata": {
  "language_info": {
   "name": "python"
  }
 },
 "nbformat": 4,
 "nbformat_minor": 5
}
